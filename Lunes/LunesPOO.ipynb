{
  "nbformat": 4,
  "nbformat_minor": 0,
  "metadata": {
    "colab": {
      "provenance": [],
      "include_colab_link": true
    },
    "kernelspec": {
      "name": "python3",
      "display_name": "Python 3"
    },
    "language_info": {
      "name": "python"
    }
  },
  "cells": [
    {
      "cell_type": "markdown",
      "metadata": {
        "id": "view-in-github",
        "colab_type": "text"
      },
      "source": [
        "<a href=\"https://colab.research.google.com/github/RubenCamachoAlvarez/Programacion_orientada_objetos/blob/main/LunesPOO.ipynb\" target=\"_parent\"><img src=\"https://colab.research.google.com/assets/colab-badge.svg\" alt=\"Open In Colab\"/></a>"
      ]
    },
    {
      "cell_type": "code",
      "execution_count": null,
      "metadata": {
        "colab": {
          "base_uri": "https://localhost:8080/",
          "height": 54
        },
        "id": "T_HAFn1J4D9-",
        "outputId": "2286642d-94fd-4c8f-9274-0e57a603f241"
      },
      "outputs": [
        {
          "output_type": "stream",
          "name": "stdout",
          "text": [
            "Hola Mundo\n"
          ]
        },
        {
          "output_type": "execute_result",
          "data": {
            "text/plain": [
              "'\\neste es\\nun \\ncomentario de\\nmúltiple línea\\n'"
            ],
            "application/vnd.google.colaboratory.intrinsic+json": {
              "type": "string"
            }
          },
          "metadata": {},
          "execution_count": 4
        }
      ],
      "source": [
        "# Esto es un comentario\n",
        "print(\"Hola Mundo\")  # Esto imprime \"Hola Mundo\"\n",
        "\"\"\"\n",
        "este es\n",
        "un \n",
        "comentario de\n",
        "múltiple línea\n",
        "\"\"\""
      ]
    },
    {
      "cell_type": "code",
      "source": [
        "!ls -a"
      ],
      "metadata": {
        "colab": {
          "base_uri": "https://localhost:8080/"
        },
        "id": "VoVhY6j96YkB",
        "outputId": "b5ca4765-fd52-4154-f994-1a6d12657e0a"
      },
      "execution_count": null,
      "outputs": [
        {
          "output_type": "stream",
          "name": "stdout",
          "text": [
            ".  ..  .config\tsample_data\n"
          ]
        }
      ]
    },
    {
      "cell_type": "code",
      "source": [
        "print(\"Hola\", \"Mundo\")\n",
        "\n",
        "print(\"Hola\" + \"Mundo\")\n",
        "\n",
        "print(\"Hola\", \"Mundo\", sep=\"-\")  # Imprime: Hola-Mundo\n",
        "\n",
        "print(\"Hola\", end=\"\")\n",
        "print(\"Mundo\")  # Imprime: HolaMundo"
      ],
      "metadata": {
        "colab": {
          "base_uri": "https://localhost:8080/"
        },
        "id": "_aQsHp457GBP",
        "outputId": "1958ba3a-f98f-4d77-a11d-b74c248d1e6f"
      },
      "execution_count": null,
      "outputs": [
        {
          "output_type": "stream",
          "name": "stdout",
          "text": [
            "Hola Mundo\n",
            "HolaMundo\n",
            "Hola-Mundo\n",
            "HolaMundo\n"
          ]
        }
      ]
    },
    {
      "cell_type": "code",
      "source": [
        "nombre = \"José\"\n",
        "carrera = \"ICO, la mejor\"\n",
        "print(\"Mi nombre es {} y estudio {} en la FES Aragón\".format(nombre, carrera))\n"
      ],
      "metadata": {
        "id": "YB0TihfF7sbE",
        "outputId": "d3c8dc61-6aee-49e4-da03-1a1adb2f3c82",
        "colab": {
          "base_uri": "https://localhost:8080/"
        }
      },
      "execution_count": null,
      "outputs": [
        {
          "output_type": "stream",
          "name": "stdout",
          "text": [
            "Mi nombre es José y estudio ICO, la mejor en la FES Aragón\n"
          ]
        }
      ]
    },
    {
      "cell_type": "code",
      "source": [
        "nombre = \"José\"\n",
        "carrera = \"ICO, la mejor\"\n",
        "#Operador * incrementa el numero de apariciones\n",
        "print(f\"Mi nombre es {nombre} y estudio en {carrera*2} dentro de la FES\")"
      ],
      "metadata": {
        "colab": {
          "base_uri": "https://localhost:8080/"
        },
        "id": "AWdry8hJ-NXz",
        "outputId": "f74dd94f-9594-4931-8aa1-8313f3f467b6"
      },
      "execution_count": null,
      "outputs": [
        {
          "output_type": "stream",
          "name": "stdout",
          "text": [
            "Mi nombre es José y estudio en ICO, la mejorICO, la mejor dentro de la FES\n"
          ]
        }
      ]
    },
    {
      "cell_type": "code",
      "source": [
        "#Operadores aritmeticos\n",
        "suma=5+3 #8\n",
        "resta=5-3 #2\n",
        "producto=5*3 #15\n",
        "division=5/3\n",
        "divisionDos=5//3\n",
        "modulo=5%3\n",
        "potencia=5**3\n",
        "print(\"La suma es:\", suma)"
      ],
      "metadata": {
        "id": "hjTw0Fsa-vj9"
      },
      "execution_count": null,
      "outputs": []
    },
    {
      "cell_type": "code",
      "source": [
        "# Operadores de comparación\n",
        "igual = 5 == 3  # False\n",
        "diferente = 5 != 3  # True\n",
        "mayor_que = 5 > 3  # True\n",
        "menor_que = 5 < 3  # False\n",
        "mayor_o_igual_que = 5 >= 3  # True\n",
        "menor_o_igual_que = 5 <= 3  # False\n",
        "print(igual) # print(diferente)\n",
        "#print( mayor_que)\n"
      ],
      "metadata": {
        "colab": {
          "base_uri": "https://localhost:8080/"
        },
        "id": "czQBqDxd_iLP",
        "outputId": "f9667b27-f60f-4869-e075-c6fdbe5c7460"
      },
      "execution_count": null,
      "outputs": [
        {
          "output_type": "stream",
          "name": "stdout",
          "text": [
            "False\n"
          ]
        }
      ]
    },
    {
      "cell_type": "code",
      "source": [
        "# Operadores lógicos\n",
        "y = True and False  # False\n",
        "o = True or False  # True\n",
        "no = not True  # False\n",
        "print(\"Ejemplo uno\",True and True and True)\n",
        "print(\"Ejemplo dos\",True and False and True)\n",
        "print(\"Ejemplo tres\", True or True or True)\n",
        "print(\"Ejemplo cuatro\",False or(True and False) )"
      ],
      "metadata": {
        "id": "Y_ur4O5TAAR-"
      },
      "execution_count": null,
      "outputs": []
    },
    {
      "cell_type": "code",
      "source": [
        "#Cadenas de texto\n",
        "#\\n Salto de linea   \\t tabulador \\\n",
        "\n",
        "saludo = \"Hola Mundo\"\n",
        "cita = 'Los alumnos\\n de ICO \\t\\t \\'dicen\\': \"Hola Mundo\"'\n",
        "parrafo = \"\"\"Esto es un párrafo\n",
        "que abarca varias\n",
        "líneas\"\"\"\n",
        "print(f\"Imprecion de cadenas\\n {saludo}\\n {cita} \\n {parrafo} .\")"
      ],
      "metadata": {
        "colab": {
          "base_uri": "https://localhost:8080/"
        },
        "id": "UVfwzi6CABvO",
        "outputId": "44804845-158f-45ee-d10b-6ffbc74f6ecb"
      },
      "execution_count": null,
      "outputs": [
        {
          "output_type": "stream",
          "name": "stdout",
          "text": [
            "Imprecion de cadenas\n",
            " Hola Mundo\n",
            " Los alumnos de ICO dicen: \"Hola Mundo\" \n",
            " Esto es un párrafo\n",
            "que abarca varias\n",
            "líneas .\n"
          ]
        }
      ]
    },
    {
      "cell_type": "code",
      "source": [
        "#C asignar fn_Uno\n",
        "def fn_uno():\n",
        "   print(\"Hola esto no fue un hola mundo\")\n",
        "\n",
        "a, b, c = 10, \"Hola\", fn_uno\n",
        "print(a)\n",
        "print(b)\n",
        "print(c)\n",
        "\n",
        "c.__call__()\n",
        "\n",
        "\n"
      ],
      "metadata": {
        "colab": {
          "base_uri": "https://localhost:8080/"
        },
        "id": "Os7CxtnfABc-",
        "outputId": "117889f2-717a-422d-cd84-0065ea1eaf80"
      },
      "execution_count": null,
      "outputs": [
        {
          "output_type": "stream",
          "name": "stdout",
          "text": [
            "10\n",
            "Hola\n",
            "<function fn_uno at 0x7f1f7d697b50>\n",
            "Hola esto no fue un hola mundo\n"
          ]
        }
      ]
    },
    {
      "cell_type": "code",
      "source": [
        "#entrada por teclado\n",
        "nombre=input(\"Por favor, ingresa tu nombre:\")\n",
        "print(f\"Hola, {nombre}\")"
      ],
      "metadata": {
        "colab": {
          "base_uri": "https://localhost:8080/"
        },
        "id": "PZjwSWm7DVdG",
        "outputId": "e617bbbd-5556-475e-e676-7d7d1f2148bf"
      },
      "execution_count": null,
      "outputs": [
        {
          "output_type": "stream",
          "name": "stdout",
          "text": [
            "Por favor, ingresa tu nombre:Jose\n",
            "Hola, Jose\n"
          ]
        }
      ]
    },
    {
      "cell_type": "code",
      "source": [
        "numero=int(\"20\")\n",
        "print(numero)\n",
        "edad = int(input(\"Introduce tu edad:\"))\n",
        "print(f\"{nombre} tiene {edad} años\")\n"
      ],
      "metadata": {
        "colab": {
          "base_uri": "https://localhost:8080/"
        },
        "id": "0oT2NjB6AuCk",
        "outputId": "be6096d7-263d-4185-a24d-196e6954522b"
      },
      "execution_count": null,
      "outputs": [
        {
          "output_type": "stream",
          "name": "stdout",
          "text": [
            "20\n",
            "Introduce tu edad:12\n",
            "Jose tiene 12 años\n"
          ]
        }
      ]
    },
    {
      "cell_type": "code",
      "source": [
        "mensaje = \"Hola Mundo\"  # String\n",
        "edad = 20               # Integer\n",
        "pi = 3.14159            # Float\n",
        "es_mayor = True         # Boolean\n",
        "imaginario = 3 + 4j     # Imaginario"
      ],
      "metadata": {
        "id": "5nPlGzRqCkkd"
      },
      "execution_count": null,
      "outputs": []
    },
    {
      "cell_type": "code",
      "source": [
        "edad"
      ],
      "metadata": {
        "colab": {
          "base_uri": "https://localhost:8080/"
        },
        "id": "ugSBPoLCEUx0",
        "outputId": "e062581a-6f08-4430-aa9e-be89319a9c07"
      },
      "execution_count": null,
      "outputs": [
        {
          "output_type": "execute_result",
          "data": {
            "text/plain": [
              "20"
            ]
          },
          "metadata": {},
          "execution_count": 14
        }
      ]
    },
    {
      "cell_type": "code",
      "source": [
        "imaginario"
      ],
      "metadata": {
        "colab": {
          "base_uri": "https://localhost:8080/"
        },
        "id": "qp0VaJ-gEXIK",
        "outputId": "cb32273e-85ae-49b7-ad7d-7aa90aea932c"
      },
      "execution_count": null,
      "outputs": [
        {
          "output_type": "execute_result",
          "data": {
            "text/plain": [
              "(3+4j)"
            ]
          },
          "metadata": {},
          "execution_count": 15
        }
      ]
    },
    {
      "cell_type": "code",
      "source": [
        "#Tipos compuestos: listas, tuplas, conjuntos\n",
        "#Lista\n",
        "frutas=['limon','\"aguacate','fresa']\n",
        "print(\"Elemento 1:\",frutas[0])\n",
        "print(\"Elemento 2: \",frutas[2])\n",
        "print(\"Elemento -1:\",frutas[-1])\n",
        "#Tuplas\n",
        "#Conjuntos\n"
      ],
      "metadata": {
        "colab": {
          "base_uri": "https://localhost:8080/"
        },
        "id": "5yVUIVhLEbvN",
        "outputId": "00474d44-0f3a-4f9e-8631-d5783a0da550"
      },
      "execution_count": null,
      "outputs": [
        {
          "output_type": "stream",
          "name": "stdout",
          "text": [
            "Elemento 1: limon\n",
            "Elemento 2:  fresa\n",
            "Elemento -1: fresa\n"
          ]
        }
      ]
    },
    {
      "cell_type": "code",
      "source": [
        "cosas=['limon',10,3.1416,True, [1,2,3,4],'Hola']\n",
        "print(cosas)"
      ],
      "metadata": {
        "colab": {
          "base_uri": "https://localhost:8080/"
        },
        "id": "Z0NB1ExOFm7d",
        "outputId": "5e0152b8-2afa-4ff9-f856-6a7cc3ec7db7"
      },
      "execution_count": null,
      "outputs": [
        {
          "output_type": "stream",
          "name": "stdout",
          "text": [
            "['limon', 10, 3.1416, True, [1, 2, 3, 4], 'Hola']\n"
          ]
        }
      ]
    },
    {
      "cell_type": "markdown",
      "source": [
        "#Slicing en python\n",
        "[inicio:alto:paso]\n",
        "posibilidad de obtener rebanadas apartir de un tipo de dato de lista o tupla, en general de un iterable. Un tipo de dato string es un iterable.\n",
        "Por defecto inicio==0, alto==tamaño de la variable, paso/avance==1"
      ],
      "metadata": {
        "id": "GZDntZUXF6kx"
      }
    },
    {
      "cell_type": "code",
      "source": [
        "ejemplo=[1,2,3,4,5,6,'a','b','c','d','e']\n",
        "print(ejemplo)\n",
        "#Imprecion de un rango\n",
        "rebanada=ejemplo[2:6:1]\n",
        "print(rebanada)\n",
        "#Ejercicio: obetener a,b,c\n",
        "rebanada=ejemplo[6:9]\n",
        "print(rebanada)"
      ],
      "metadata": {
        "colab": {
          "base_uri": "https://localhost:8080/"
        },
        "id": "QBs7Eiy3F2ZZ",
        "outputId": "6f07215d-ba60-4176-d398-4df03de29dc7"
      },
      "execution_count": null,
      "outputs": [
        {
          "output_type": "stream",
          "name": "stdout",
          "text": [
            "[1, 2, 3, 4, 5, 6, 'a', 'b', 'c', 'd', 'e']\n",
            "[3, 4, 5, 6]\n",
            "['a', 'b', 'c']\n"
          ]
        }
      ]
    },
    {
      "cell_type": "code",
      "source": [
        "#Tuplas: semejantes a las listas, pero son inmutables.\n",
        "frutas_dos=('aguacate','limon','naranja')\n",
        "print(frutas)\n",
        "print(frutas_dos)\n",
        "frutas[1]='Piña'\n",
        "#Error, no es posible cambiarlo \n",
        "#frutas_dos[1]='Piña'\n",
        "print(frutas[1])\n",
        "print(frutas_dos[1])\n",
        "print(frutas_dos[-1])\n"
      ],
      "metadata": {
        "colab": {
          "base_uri": "https://localhost:8080/"
        },
        "id": "VLyTzdkeIjKP",
        "outputId": "bc249cfd-ce81-4f60-f93f-8cf0a5bbb9b0"
      },
      "execution_count": null,
      "outputs": [
        {
          "output_type": "stream",
          "name": "stdout",
          "text": [
            "['limon', 'Piña', 'fresa']\n",
            "('aguacate', 'limon', 'naranja')\n",
            "Piña\n",
            "limon\n",
            "naranja\n"
          ]
        }
      ]
    },
    {
      "cell_type": "markdown",
      "source": [
        "#Diccionarios teoria\n",
        "1. Conjunto de pares llave-valor\n",
        "2. Agrupados por ':'\n",
        "3. La llave siempre es detipo string\n",
        "4. El Valor es de cualquier tipo\n",
        "5. El Selector es de la forma ['llave']\n",
        "6. Mutable\n",
        "7. Se declara con { }\n",
        "8. Los pares son sepados por ','"
      ],
      "metadata": {
        "id": "KV92shbuKOJD"
      }
    },
    {
      "cell_type": "code",
      "source": [
        "#Diccionarios\n",
        "alumno={'numero_cuenta':12323156, 'carrera':'ICO',\n",
        "          'direccion':{'calle':'rancho seco', 'numero':23}      \n",
        "}\n",
        "print(alumno)\n",
        "#Seleccion de llave\n",
        "print(alumno['carrera'])\n",
        "print(alumno['direccion'])\n",
        "\n",
        "#Como imprimir el numero 23\n",
        "#como imprimir 'cho' de las direccion\n"
      ],
      "metadata": {
        "colab": {
          "base_uri": "https://localhost:8080/"
        },
        "id": "Gar6S34kJsby",
        "outputId": "e3eea0f9-f625-40c6-9f8d-b4eaf814f43b"
      },
      "execution_count": null,
      "outputs": [
        {
          "output_type": "stream",
          "name": "stdout",
          "text": [
            "{'numero_cuenta': 12323156, 'carrera': 'ICO', 'direccion': {'calle': 'rancho seco', 'numero': 23}}\n"
          ]
        }
      ]
    }
  ]
}
